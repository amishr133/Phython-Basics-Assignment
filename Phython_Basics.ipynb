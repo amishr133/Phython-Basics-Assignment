{
  "nbformat": 4,
  "nbformat_minor": 0,
  "metadata": {
    "colab": {
      "provenance": []
    },
    "kernelspec": {
      "name": "python3",
      "display_name": "Python 3"
    },
    "language_info": {
      "name": "python"
    }
  },
  "cells": [
    {
      "cell_type": "code",
      "execution_count": null,
      "metadata": {
        "id": "LNCxiifQ_SBb"
      },
      "outputs": [],
      "source": []
    },
    {
      "cell_type": "markdown",
      "source": [
        "#Python Basics Questions"
      ],
      "metadata": {
        "id": "DvuU7hye_S4K"
      }
    },
    {
      "cell_type": "code",
      "source": [],
      "metadata": {
        "id": "Y-QV44Ku_s6r"
      },
      "execution_count": null,
      "outputs": []
    },
    {
      "cell_type": "markdown",
      "source": [
        "1) What is Python, and why is it popular\n",
        "\n",
        "      Python is a high-level, interpreted programming language known for its simplicity, readability, and versatility. It was created by Guido van Rossum and first released in 1991.\n",
        "\n",
        "      Python supports multiple programming paradigms, including:\n",
        "\n",
        "        Procedural programming\n",
        "\n",
        "        Object-oriented programming\n",
        "\n",
        "        Functional programming\n",
        "\n",
        "        Easy to Learn and Use\n",
        "\n",
        "        Simple and clean syntax that mimics human language.\n",
        "\n",
        "Suitable for beginners and professionals alike.\n",
        "\n",
        "1) Versatile and Flexible\n",
        "\n",
        "      Can be used for web development, data science, machine learning, automation, game development, desktop applications, and more.\n",
        "\n",
        "2) Extensive Libraries and Frameworks\n",
        "\n",
        "      > Libraries like NumPy, Pandas, Matplotlib, TensorFlow, Django, Flask, etc., speed up development.\n",
        "\n",
        "3) Strong Community Support\n",
        "\n",
        "      > Large, active community means lots of tutorials, forums, and resources are available.\n",
        "\n",
        "4) Cross-Platform Compatibility\n",
        "\n",
        "      > Python code runs on various operating systems with minimal or no modification.\n",
        "\n",
        "5) Integration Capabilities\n",
        "\n",
        "      > Easily integrates with other languages (like C, C++, Java) and technologies (e.g., databases, APIs).\n",
        "    \n",
        "\n",
        "\n"
      ],
      "metadata": {
        "id": "YTAYNhuU_t6i"
      }
    },
    {
      "cell_type": "markdown",
      "source": [
        "2) What is an interpreter in Python\n",
        "\n",
        "      >An interpreter in Python is a program that reads and executes Python code line by line, converting it into machine-executable instructions at runtime.\n",
        "\n",
        "      Examples of Python Interpreters:\n",
        "        CPython : The standard, most widely used implementation.\n",
        "\n",
        "        PyPy : Faster interpreter using Just-In-Time (JIT) compilation.\n",
        "\n",
        "        Jython : Python interpreter written in Java.\n",
        "\n",
        "        IronPython : Python running on .NET.\n",
        "\n"
      ],
      "metadata": {
        "id": "zMAdTg2KCPVE"
      }
    },
    {
      "cell_type": "markdown",
      "source": [
        "3) What are pre-defined keywords in Python?\n",
        "\n",
        "        >Pre-defined keywords in Python are reserved words that have special meanings and are part of the language's syntax. You cannot use them as variable names, function names, or identifiers.\n",
        "\n",
        "        They are the building blocks of Python code and define things like control flow, data types, error handling, and more."
      ],
      "metadata": {
        "id": "vPbvfBjhDFvl"
      }
    },
    {
      "cell_type": "markdown",
      "source": [
        "4) Can keywords be used as variable names?\n",
        "      \n",
        "      >No, Keywords Cannot Be Used as Variable Names in Python. Keywords in Python are reserved words that the language uses for its own syntax and structure. Because of this, you cannot use them as variable names — doing so will result in a syntax error."
      ],
      "metadata": {
        "id": "VScwVspSEIbK"
      }
    },
    {
      "cell_type": "markdown",
      "source": [
        "5) What is mutability in Python?\n",
        "\n",
        "      Mutability in Python refers to whether or not an object can be changed after it is created.\n",
        "\n",
        "         > If an object can be changed, it is called mutable.\n",
        "         > If it cannot be changed, it is called immutable.\n",
        "\n",
        "      list. dict. and set are mutable and str, int, float. and tuples are imutables   "
      ],
      "metadata": {
        "id": "cGTHyH6vEsBf"
      }
    },
    {
      "cell_type": "markdown",
      "source": [
        "6) Why are lists mutable, but tuples are immutable ?\n",
        "\n",
        "      >The difference between lists and tuples in Python—mutability—comes down to their intended use, performance, and design philosophy.\n",
        "      \n",
        "      >Lists are mutable to allow flexibility and dynamic behavior. Tuples are immutable to ensure stability, efficiency, and safe usage in contexts where data must not change.\n",
        "\n",
        "      >Example of list:\n",
        "\n",
        "      my_list = [1, 2, 3]\n",
        "      my_list[0] = 100 #work\n",
        "\n",
        "      Example of tuple:\n",
        "\n",
        "      my_tuple = (1, 2, 3)\n",
        "      my_tuple[0] = 100 #not_work\n",
        "\n"
      ],
      "metadata": {
        "id": "Xu7vSaX3FtI4"
      }
    },
    {
      "cell_type": "markdown",
      "source": [
        "7) What is the difference between “==” and “is” operators in Python?\n",
        "      In Python, == and is are both comparison operators, but they check different things:\n",
        "\n",
        "       == → Equality Operator:\n",
        "       Checks whether two values are equal (i.e., have the same content).It compares data, not memory location.\n",
        "\n",
        "      a = [1, 2, 3]\n",
        "      b = [1, 2, 3]\n",
        "\n",
        "      print(a == b)   #True: same content\n",
        "\n",
        "      is → Identity Operator:\n",
        "      Checks whether two variables refer to the exact same object in memory.It compares object identity, not value.\n",
        "\n",
        "      a = [1, 2, 3]\n",
        "      b = [1, 2, 3]\n",
        "\n",
        "      print(a is b)   #False: different objects in memory\n"
      ],
      "metadata": {
        "id": "mFvHCUc4Hiui"
      }
    },
    {
      "cell_type": "markdown",
      "source": [
        "8) What are logical operators in Python?\n",
        "      \n",
        "      >Logical operators in Python are used to combine or compare boolean expressions (conditions that return True or False).\n",
        "\n",
        "      and, or, not are 3 logical operatiors"
      ],
      "metadata": {
        "id": "O3hXg0cII2WM"
      }
    },
    {
      "cell_type": "markdown",
      "source": [
        "9) What Is Type Casting in Python?\n",
        "\n",
        "      >Type casting in Python means converting a value from one data type to another — such as turning a string into an integer, a float into a string, etc. It's also called type conversion."
      ],
      "metadata": {
        "id": "LCUzUJbYJYk4"
      }
    },
    {
      "cell_type": "markdown",
      "source": [
        "10) What is the difference between implicit and explicit type casting?\n",
        "\n",
        "        Implicit: >Automatic conversion done by Python\n",
        "                  >No control by programmer\n",
        "                  >During operations involving mixed types\n",
        "                  >No functions needed\n",
        "                  >int + float → float conversion automatically\n",
        "\n",
        "        Explicit: >Manual conversion done by the programmer\n",
        "                  >Programmer controls when and how to convert\n",
        "                  >When programmer uses conversion functions\n",
        "                  >int(), float(), str(), etc.\n",
        "                  >Converting \"123\" to 123 using int(\"123\")\n",
        "          "
      ],
      "metadata": {
        "id": "R_YcDUNcJjz0"
      }
    },
    {
      "cell_type": "markdown",
      "source": [
        "11) What is the purpose of conditional statements in Python?\n",
        "\n",
        "          > The purpose of conditional statements in Python is to make decisions and execute code selectively based on whether conditions are true or false, enabling your program to behave differently under different circumstances."
      ],
      "metadata": {
        "id": "uv7DN8sMK-da"
      }
    },
    {
      "cell_type": "markdown",
      "source": [
        "12) How does the elif statement work?\n",
        "\n",
        "      >The elif (short for \"else if\") statement is used in Python to check multiple conditions in a sequence. It allows you to test multiple conditions after the initial if statement, and execute a block of code for the first True condition it encounters. If none of the conditions are True, it can fall through to the optional else block."
      ],
      "metadata": {
        "id": "Vym7Zn46L2YQ"
      }
    },
    {
      "cell_type": "markdown",
      "source": [
        "13) What is the difference between for and while loops?\n",
        "\n",
        "          for loop >  for loop is used when the number of iterations is known,  or you are iterating over a sequence (e.g., list, range).\n",
        "                  > for loop structure Iterates over a collection or range.\n",
        "                  > for loop has more concise, typically used with range(), lists, or other iterable objects.\n",
        "\n",
        "          While loop > while loop is used when the number of iterations is unknown and depends on a condition.\n",
        "                > while loop structure continues as long as the condition is true.\n",
        "                > while loop requires careful management of loop condition and loop variable (to avoid infinite loops).\n"
      ],
      "metadata": {
        "id": "CGRKONgZMGq6"
      }
    },
    {
      "cell_type": "markdown",
      "source": [
        "14) Describe a scenario where a while loop is more suitable than a for loop.?\n",
        "\n",
        "      > Scenario: User Input Validation\n",
        "          In this scenario, you want to prompt the user for a valid password until they enter it correctly. Since the number of attempts is unknown, you can't predict how many times you'll need to ask for input, making a while loop more suitable than a for loop.\n",
        "\n",
        "          example:\n",
        "\n",
        "          correct_password = \"Python123\"\n",
        "          user_input = \"\"\n",
        "          while user_input != correct_password:\n",
        "          user_input = input(\"Enter your password: \")\n",
        "            print(\"Password accepted!\")\n",
        "\n",
        "\n",
        "\n",
        "\n"
      ],
      "metadata": {
        "id": "v2X4RyB0N7rz"
      }
    },
    {
      "cell_type": "code",
      "source": [
        "#Write a Python program to print \"Hello, World!\n",
        "\n",
        "print(\"Hello, World!\")\n"
      ],
      "metadata": {
        "colab": {
          "base_uri": "https://localhost:8080/"
        },
        "id": "VfcROC9qOyma",
        "outputId": "9ba649ec-7105-44d6-a6c1-0692e14a1f10"
      },
      "execution_count": 1,
      "outputs": [
        {
          "output_type": "stream",
          "name": "stdout",
          "text": [
            "Hello, World!\n"
          ]
        }
      ]
    },
    {
      "cell_type": "code",
      "source": [
        "#Write a Python program that displays your name and age\n",
        "\n",
        "name = \"Abhijeet_Mishra\"\n",
        "age = 28\n",
        "\n",
        "print(\"Name:\", name)\n",
        "print(\"Age:\", age)\n"
      ],
      "metadata": {
        "colab": {
          "base_uri": "https://localhost:8080/"
        },
        "id": "SfF0rsZvO_nB",
        "outputId": "73906309-e8cb-4660-cc71-44d637af96ca"
      },
      "execution_count": 2,
      "outputs": [
        {
          "output_type": "stream",
          "name": "stdout",
          "text": [
            "Name: Abhijeet_Mishra\n",
            "Age: 28\n"
          ]
        }
      ]
    },
    {
      "cell_type": "code",
      "source": [
        "#Write code to print all the pre-defined keywords in Python using the keyword library\n",
        "\n",
        "import keyword\n",
        "print(\"Python Keywords:\", keyword.kwlist)\n"
      ],
      "metadata": {
        "colab": {
          "base_uri": "https://localhost:8080/"
        },
        "id": "7jqeUXaSPgPl",
        "outputId": "3ee9abb2-ab68-4227-fe35-467b5e797627"
      },
      "execution_count": 3,
      "outputs": [
        {
          "output_type": "stream",
          "name": "stdout",
          "text": [
            "Python Keywords: ['False', 'None', 'True', 'and', 'as', 'assert', 'async', 'await', 'break', 'class', 'continue', 'def', 'del', 'elif', 'else', 'except', 'finally', 'for', 'from', 'global', 'if', 'import', 'in', 'is', 'lambda', 'nonlocal', 'not', 'or', 'pass', 'raise', 'return', 'try', 'while', 'with', 'yield']\n"
          ]
        }
      ]
    },
    {
      "cell_type": "code",
      "source": [
        "#Write a program that checks if a given word is a Python keyword.\n",
        "\n",
        "import keyword\n",
        "word = input(\"Enter a word: \")\n",
        "if keyword.iskeyword(word):\n",
        "    print(f\"'{word}' is a Python keyword.\")\n",
        "else:\n",
        "    print(f\"'{word}' is not a Python keyword.\")\n"
      ],
      "metadata": {
        "colab": {
          "base_uri": "https://localhost:8080/"
        },
        "id": "2s0Nnj19P32e",
        "outputId": "8a624104-b473-4be0-a15f-8144078eab8b"
      },
      "execution_count": 4,
      "outputs": [
        {
          "output_type": "stream",
          "name": "stdout",
          "text": [
            "Enter a word: list\n",
            "'list' is not a Python keyword.\n"
          ]
        }
      ]
    },
    {
      "cell_type": "code",
      "source": [
        "#Create a list and tuple in Python, and demonstrate how attempting to change an element works differently for each.\n",
        "\n",
        "my_list = [1, 2, 3, 4]\n",
        "print(\"Original list:\", my_list)\n",
        "\n",
        "my_list[0] = 100  # This works because lists are mutable\n",
        "print(\"Modified list:\", my_list)\n",
        "\n",
        "my_tuple = (1, 2, 3, 4)\n",
        "print(\"\\nOriginal tuple:\", my_tuple)\n",
        "\n",
        "try:\n",
        "    my_tuple[0] = 100  # This will raise a TypeError because tuples are immutable\n",
        "except TypeError as e:\n",
        "    print(f\"Error: {e}\")\n"
      ],
      "metadata": {
        "colab": {
          "base_uri": "https://localhost:8080/"
        },
        "id": "DaxNmVDeQIRG",
        "outputId": "996007d5-ad93-405b-9c11-9efd4c5f7adc"
      },
      "execution_count": 5,
      "outputs": [
        {
          "output_type": "stream",
          "name": "stdout",
          "text": [
            "Original list: [1, 2, 3, 4]\n",
            "Modified list: [100, 2, 3, 4]\n",
            "\n",
            "Original tuple: (1, 2, 3, 4)\n",
            "Error: 'tuple' object does not support item assignment\n"
          ]
        }
      ]
    },
    {
      "cell_type": "code",
      "source": [
        "## Function to demonstrate mutable and immutable arguments\n",
        "def demonstrate_mutability(mutable_arg, immutable_arg):\n",
        "    print(\"Before modification:\")\n",
        "    print(\"Mutable argument:\", mutable_arg)\n",
        "    print(\"Immutable argument:\", immutable_arg)\n",
        "\n",
        "    # Modifying the mutable argument (list)\n",
        "    mutable_arg.append(100)  # This will change the list\n",
        "    print(\"\\nModified mutable argument:\", mutable_arg)\n",
        "\n",
        "    # Attempting to modify the immutable argument (integer)\n",
        "    immutable_arg += 1  # This creates a new integer, doesn't modify the original\n",
        "    print(\"Modified immutable argument:\", immutable_arg)\n",
        "\n",
        "# Example of mutable and immutable arguments\n",
        "mutable = [1, 2, 3]   # Mutable: list\n",
        "immutable = 10        # Immutable: integer\n",
        "\n",
        "# Calling the function\n",
        "demonstrate_mutability(mutable, immutable)\n",
        "\n",
        "# Checking the original values outside the function\n",
        "print(\"\\nAfter function call:\")\n",
        "print(\"Original mutable:\", mutable)       # List should be modified\n",
        "print(\"Original immutable:\", immutable)   # Integer should remain unchanged"
      ],
      "metadata": {
        "colab": {
          "base_uri": "https://localhost:8080/"
        },
        "id": "7_ktGUx_QmE-",
        "outputId": "466f74f2-3070-452e-8fb6-15629d57a26b"
      },
      "execution_count": 6,
      "outputs": [
        {
          "output_type": "stream",
          "name": "stdout",
          "text": [
            "Before modification:\n",
            "Mutable argument: [1, 2, 3]\n",
            "Immutable argument: 10\n",
            "\n",
            "Modified mutable argument: [1, 2, 3, 100]\n",
            "Modified immutable argument: 11\n",
            "\n",
            "After function call:\n",
            "Original mutable: [1, 2, 3, 100]\n",
            "Original immutable: 10\n"
          ]
        }
      ]
    },
    {
      "cell_type": "code",
      "source": [
        "#Write a program that performs basic arithmetic operations on two user-input numbers.\n",
        "\n",
        "# Function to perform basic arithmetic operations\n",
        "def arithmetic_operations():\n",
        "    # Take user input for two numbers\n",
        "    num1 = float(input(\"Enter the first number: \"))\n",
        "    num2 = float(input(\"Enter the second number: \"))\n",
        "\n",
        "    # Perform arithmetic operations\n",
        "    addition = num1 + num2\n",
        "    subtraction = num1 - num2\n",
        "    multiplication = num1 * num2\n",
        "\n",
        "    # Check for division by zero\n",
        "    if num2 != 0:\n",
        "        division = num1 / num2\n",
        "    else:\n",
        "        division = \"Cannot divide by zero\"\n",
        "\n",
        "    # Display results\n",
        "    print(\"\\nResults:\")\n",
        "    print(f\"Addition: {num1} + {num2} = {addition}\")\n",
        "    print(f\"Subtraction: {num1} - {num2} = {subtraction}\")\n",
        "    print(f\"Multiplication: {num1} * {num2} = {multiplication}\")\n",
        "    print(f\"Division: {num1} / {num2} = {division}\")\n",
        "\n",
        "# Call the function\n",
        "arithmetic_operations()\n"
      ],
      "metadata": {
        "colab": {
          "base_uri": "https://localhost:8080/"
        },
        "id": "stAl58lhQ-P0",
        "outputId": "51909026-243d-4110-92e9-d01cad7bd656"
      },
      "execution_count": 7,
      "outputs": [
        {
          "output_type": "stream",
          "name": "stdout",
          "text": [
            "Enter the first number: 5\n",
            "Enter the second number: 7\n",
            "\n",
            "Results:\n",
            "Addition: 5.0 + 7.0 = 12.0\n",
            "Subtraction: 5.0 - 7.0 = -2.0\n",
            "Multiplication: 5.0 * 7.0 = 35.0\n",
            "Division: 5.0 / 7.0 = 0.7142857142857143\n"
          ]
        }
      ]
    },
    {
      "cell_type": "code",
      "source": [
        "#Write a program to demonstrate the use of logical operators.\n",
        "\n",
        "# Function to demonstrate logical operators\n",
        "def logical_operators_demo():\n",
        "    # Take input from the user\n",
        "    age = int(input(\"Enter your age: \"))\n",
        "    is_student = input(\"Are you a student? (yes/no): \").lower() == \"yes\"\n",
        "    has_ticket = input(\"Do you have a ticket? (yes/no): \").lower() == \"yes\"\n",
        "\n",
        "    # Using 'and' logical operator\n",
        "    if age >= 18 and has_ticket:\n",
        "        print(\"\\nYou can enter the concert because you're an adult and you have a ticket.\")\n",
        "    else:\n",
        "        print(\"\\nYou cannot enter the concert because either you are not an adult or you don't have a ticket.\")\n",
        "\n",
        "    # Using 'or' logical operator\n",
        "    if is_student or age < 18:\n",
        "        print(\"You may get a discount on your ticket!\")\n",
        "    else:\n",
        "        print(\"No discount for you.\")\n",
        "\n",
        "    # Using 'not' logical operator\n",
        "    if not is_student:\n",
        "        print(\"You are not a student.\")\n",
        "    else:\n",
        "        print(\"You are a student.\")\n",
        "\n",
        "# Call the function\n",
        "logical_operators_demo()"
      ],
      "metadata": {
        "colab": {
          "base_uri": "https://localhost:8080/"
        },
        "id": "lOJzimkMRQ31",
        "outputId": "1a147dc1-548e-4c7c-83d4-502666f56c14"
      },
      "execution_count": 8,
      "outputs": [
        {
          "output_type": "stream",
          "name": "stdout",
          "text": [
            "Enter your age: 25\n",
            "Are you a student? (yes/no): no\n",
            "Do you have a ticket? (yes/no): no\n",
            "\n",
            "You cannot enter the concert because either you are not an adult or you don't have a ticket.\n",
            "No discount for you.\n",
            "You are not a student.\n"
          ]
        }
      ]
    },
    {
      "cell_type": "code",
      "source": [
        "#Write a Python program to convert user input from string to integer, float, and boolean types\n",
        "\n",
        "# Function to demonstrate type conversion\n",
        "def type_conversion_demo():\n",
        "    # Take user input (which will be a string by default)\n",
        "    user_input = input(\"Enter a value: \")\n",
        "\n",
        "    # Convert input to integer\n",
        "    try:\n",
        "        integer_value = int(user_input)\n",
        "        print(f\"Converted to integer: {integer_value}\")\n",
        "    except ValueError:\n",
        "        print(\"Error: The input cannot be converted to an integer.\")\n",
        "\n",
        "    # Convert input to float\n",
        "    try:\n",
        "        float_value = float(user_input)\n",
        "        print(f\"Converted to float: {float_value}\")\n",
        "    except ValueError:\n",
        "        print(\"Error: The input cannot be converted to a float.\")\n",
        "\n",
        "    # Convert input to boolean\n",
        "    # If the input is 'True' (case insensitive) or a non-empty string, it will be True\n",
        "    # If the input is 'False' (case insensitive) or an empty string, it will be False\n",
        "    boolean_value = user_input.strip().lower() in ['true', '1', 'yes', 'y']\n",
        "    print(f\"Converted to boolean: {boolean_value}\")\n",
        "\n",
        "# Call the function\n",
        "type_conversion_demo()\n"
      ],
      "metadata": {
        "colab": {
          "base_uri": "https://localhost:8080/"
        },
        "id": "KdZpdcHVRmmV",
        "outputId": "b8e08f87-1fb4-4747-9208-8b139af10281"
      },
      "execution_count": 9,
      "outputs": [
        {
          "output_type": "stream",
          "name": "stdout",
          "text": [
            "Enter a value: 55\n",
            "Converted to integer: 55\n",
            "Converted to float: 55.0\n",
            "Converted to boolean: False\n"
          ]
        }
      ]
    },
    {
      "cell_type": "code",
      "source": [
        "#Write code to demonstrate type casting with list elements.\n",
        "\n",
        "# Function to demonstrate type casting with list elements\n",
        "def type_casting_list_demo():\n",
        "    # Original list with string elements\n",
        "    str_list = [\"10\", \"20\", \"30\", \"40\", \"50\"]\n",
        "\n",
        "    # Convert the string list elements to integers\n",
        "    int_list = [int(item) for item in str_list]\n",
        "    print(\"Converted to integers:\", int_list)\n",
        "\n",
        "    # Convert the integer list elements to floats\n",
        "    float_list = [float(item) for item in int_list]\n",
        "    print(\"Converted to floats:\", float_list)\n",
        "\n",
        "    # Convert the float list elements to strings\n",
        "    str_again_list = [str(item) for item in float_list]\n",
        "    print(\"Converted back to strings:\", str_again_list)\n",
        "\n",
        "    # Creating a list of boolean values\n",
        "    bool_list = [bool(int(item)) for item in str_list]  # Convert string numbers to boolean (non-zero -> True)\n",
        "    print(\"Converted to boolean\")\n",
        "\n",
        "    # Call the function\n",
        "type_casting_list_demo()\n"
      ],
      "metadata": {
        "colab": {
          "base_uri": "https://localhost:8080/"
        },
        "id": "WkegxzyaR1nw",
        "outputId": "69ca7365-3872-4947-a3e9-d1351445f833"
      },
      "execution_count": 11,
      "outputs": [
        {
          "output_type": "stream",
          "name": "stdout",
          "text": [
            "Converted to integers: [10, 20, 30, 40, 50]\n",
            "Converted to floats: [10.0, 20.0, 30.0, 40.0, 50.0]\n",
            "Converted back to strings: ['10.0', '20.0', '30.0', '40.0', '50.0']\n",
            "Converted to boolean\n"
          ]
        }
      ]
    },
    {
      "cell_type": "code",
      "source": [
        "#Write a program that checks if a number is positive, negative, or zero.\n",
        "\n",
        "# Function to check if a number is positive, negative, or zero\n",
        "def check_number():\n",
        "    # Take user input\n",
        "    number = float(input(\"Enter a number: \"))\n",
        "\n",
        "    # Check if the number is positive, negative, or zero\n",
        "    if number > 0:\n",
        "        print(\"The number is positive.\")\n",
        "    elif number < 0:\n",
        "        print(\"The number is negative.\")\n",
        "    else:\n",
        "        print(\"The number is zero.\")\n",
        "\n",
        "# Call the function\n",
        "check_number()\n"
      ],
      "metadata": {
        "colab": {
          "base_uri": "https://localhost:8080/"
        },
        "id": "4DEshmlrSS0Y",
        "outputId": "53f24d08-831b-4724-9639-1f906848a72c"
      },
      "execution_count": 12,
      "outputs": [
        {
          "output_type": "stream",
          "name": "stdout",
          "text": [
            "Enter a number: 45\n",
            "The number is positive.\n"
          ]
        }
      ]
    },
    {
      "cell_type": "code",
      "source": [
        "#Write a Python program to find the sum of all even numbers between 1 and 50\n",
        "\n",
        "# Function to find the sum of all even numbers between 1 and 50\n",
        "def sum_of_even_numbers():\n",
        "    total_sum = 0\n",
        "\n",
        "    # Iterate through numbers from 1 to 50\n",
        "    for num in range(1, 51):\n",
        "        if num % 2 == 0:  # Check if the number is even\n",
        "            total_sum += num  # Add the even number to the sum\n",
        "\n",
        "    return total_sum\n",
        "\n",
        "# Call the function and display the result\n",
        "result = sum_of_even_numbers()\n",
        "print(\"The sum of all even numbers between 1 and 50 is:\", result)\n"
      ],
      "metadata": {
        "colab": {
          "base_uri": "https://localhost:8080/"
        },
        "id": "lvr2-DxSSmSF",
        "outputId": "fe853d78-0c9d-4ba7-8692-39e10e90edb6"
      },
      "execution_count": 13,
      "outputs": [
        {
          "output_type": "stream",
          "name": "stdout",
          "text": [
            "The sum of all even numbers between 1 and 50 is: 650\n"
          ]
        }
      ]
    },
    {
      "cell_type": "code",
      "source": [
        "#Write a for loop to print numbers from 1 to 10\n",
        "for num in range(1, 11):\n",
        "    print(num)\n"
      ],
      "metadata": {
        "colab": {
          "base_uri": "https://localhost:8080/"
        },
        "id": "32ljySmxSz8C",
        "outputId": "e80d2938-ae20-4416-c280-fd07155df8b6"
      },
      "execution_count": 14,
      "outputs": [
        {
          "output_type": "stream",
          "name": "stdout",
          "text": [
            "1\n",
            "2\n",
            "3\n",
            "4\n",
            "5\n",
            "6\n",
            "7\n",
            "8\n",
            "9\n",
            "10\n"
          ]
        }
      ]
    },
    {
      "cell_type": "code",
      "source": [
        "# Write a program to reverse a string using a while loop.\n",
        "\n",
        "# Function to reverse a string using a while loop\n",
        "def reverse_string():\n",
        "    # Take user input for the string\n",
        "    original_string = input(\"Enter a string: \")\n",
        "\n",
        "    # Initialize an empty string to store the reversed string\n",
        "    reversed_string = \"\"\n",
        "\n",
        "    # Set an index to the last character of the original string\n",
        "    index = len(original_string) - 1\n",
        "\n",
        "    # Use a while loop to traverse the string in reverse order\n",
        "    while index >= 0:\n",
        "        reversed_string += original_string[index]  # Append the character to the reversed string\n",
        "        index -= 1  # Move to the previous character\n",
        "\n",
        "    # Output the reversed string\n",
        "    print(\"Reversed string:\", reversed_string)\n",
        "\n",
        "# Call the function\n",
        "reverse_string()\n"
      ],
      "metadata": {
        "colab": {
          "base_uri": "https://localhost:8080/"
        },
        "id": "epLHXV6_TMBz",
        "outputId": "aa0f8a88-064c-4e09-f8cb-2a8039447b0f"
      },
      "execution_count": 15,
      "outputs": [
        {
          "output_type": "stream",
          "name": "stdout",
          "text": [
            "Enter a string: Abhijeet\n",
            "Reversed string: teejihbA\n"
          ]
        }
      ]
    },
    {
      "cell_type": "code",
      "source": [
        "# Write a Python program to calculate the factorial of a number provided by the user using a while loop.\n",
        "\n",
        "# Function to calculate factorial using a while loop\n",
        "def factorial():\n",
        "    # Take user input for the number\n",
        "    num = int(input(\"Enter a number: \"))\n",
        "\n",
        "    # Initialize the result to 1 (since factorial of 0 is 1)\n",
        "    result = 1\n",
        "\n",
        "    # Check if the number is negative\n",
        "    if num < 0:\n",
        "        print(\"Factorial is not defined for negative numbers.\")\n",
        "    else:\n",
        "        # Use a while loop to calculate the factorial\n",
        "        while num > 0:\n",
        "            result *= num  # Multiply the result by the current number\n",
        "            num -= 1  # Decrease the number by 1 each time\n",
        "\n",
        "        # Output the result\n",
        "        print(\"The factorial is:\", result)\n",
        "\n",
        "# Call the function\n",
        "factorial()\n"
      ],
      "metadata": {
        "colab": {
          "base_uri": "https://localhost:8080/"
        },
        "id": "Gjd_Gxf9TXaO",
        "outputId": "df55898e-beba-469c-824b-35fdf5bd8162"
      },
      "execution_count": 16,
      "outputs": [
        {
          "output_type": "stream",
          "name": "stdout",
          "text": [
            "Enter a number: 21\n",
            "The factorial is: 51090942171709440000\n"
          ]
        }
      ]
    },
    {
      "cell_type": "code",
      "source": [],
      "metadata": {
        "id": "_-IYPiMnTjvR"
      },
      "execution_count": null,
      "outputs": []
    },
    {
      "cell_type": "code",
      "source": [],
      "metadata": {
        "id": "KOYf17cjSBwN"
      },
      "execution_count": null,
      "outputs": []
    },
    {
      "cell_type": "code",
      "source": [],
      "metadata": {
        "id": "JlEHl_a7OwUF"
      },
      "execution_count": null,
      "outputs": []
    },
    {
      "cell_type": "code",
      "source": [],
      "metadata": {
        "id": "V3TaRtPhOjGK"
      },
      "execution_count": null,
      "outputs": []
    },
    {
      "cell_type": "code",
      "source": [],
      "metadata": {
        "id": "P778pV7bNm5x"
      },
      "execution_count": null,
      "outputs": []
    },
    {
      "cell_type": "code",
      "source": [],
      "metadata": {
        "id": "taJL8dcRK3U-"
      },
      "execution_count": null,
      "outputs": []
    },
    {
      "cell_type": "code",
      "source": [],
      "metadata": {
        "id": "EzEs7joKJPFF"
      },
      "execution_count": null,
      "outputs": []
    },
    {
      "cell_type": "code",
      "source": [],
      "metadata": {
        "id": "WpWRoznQI1zp"
      },
      "execution_count": null,
      "outputs": []
    },
    {
      "cell_type": "code",
      "source": [],
      "metadata": {
        "id": "ulDhNXqyIjFa"
      },
      "execution_count": null,
      "outputs": []
    },
    {
      "cell_type": "code",
      "source": [],
      "metadata": {
        "id": "2FlzmTeIHbGy"
      },
      "execution_count": null,
      "outputs": []
    },
    {
      "cell_type": "code",
      "source": [],
      "metadata": {
        "id": "tv8D8y5TFoD-"
      },
      "execution_count": null,
      "outputs": []
    },
    {
      "cell_type": "code",
      "source": [],
      "metadata": {
        "id": "ycXElfLOErEE"
      },
      "execution_count": null,
      "outputs": []
    },
    {
      "cell_type": "code",
      "source": [],
      "metadata": {
        "id": "bBv5hgqjEEnz"
      },
      "execution_count": null,
      "outputs": []
    },
    {
      "cell_type": "code",
      "source": [],
      "metadata": {
        "id": "a8_cHCGkDCXm"
      },
      "execution_count": null,
      "outputs": []
    },
    {
      "cell_type": "code",
      "source": [],
      "metadata": {
        "id": "_IhUgs0KCKk4"
      },
      "execution_count": null,
      "outputs": []
    }
  ]
}